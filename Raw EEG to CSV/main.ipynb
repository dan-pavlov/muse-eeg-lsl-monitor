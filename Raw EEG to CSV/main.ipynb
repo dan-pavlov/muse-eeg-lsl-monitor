{
 "cells": [
  {
   "cell_type": "markdown",
   "metadata": {},
   "source": [
    "### Import/Load/Initialise Dependencies"
   ]
  },
  {
   "cell_type": "code",
   "execution_count": null,
   "metadata": {},
   "outputs": [],
   "source": [
    "from pylsl import StreamInlet, resolve_stream\n",
    "from pynput import mouse\n",
    "from datetime import date\n",
    "import time\n",
    "import numpy as np\n",
    "import pandas as pd\n",
    "import matplotlib.pyplot as plt\n",
    "pd.set_option('float_format', '{:f}'.format)"
   ]
  },
  {
   "cell_type": "code",
   "execution_count": null,
   "metadata": {},
   "outputs": [],
   "source": [
    "streams = resolve_stream('type', 'EEG')"
   ]
  },
  {
   "cell_type": "code",
   "execution_count": null,
   "metadata": {},
   "outputs": [],
   "source": [
    "def on_click(x, y, button, pressed):\n",
    "    raw_eeg_data.append([timestamp,*sample,1])"
   ]
  },
  {
   "cell_type": "markdown",
   "metadata": {},
   "source": [
    "### Define Variables, Initialise Mouse Listener, Record the Data"
   ]
  },
  {
   "cell_type": "code",
   "execution_count": null,
   "metadata": {},
   "outputs": [],
   "source": [
    "timeout = 1 #seconds"
   ]
  },
  {
   "cell_type": "code",
   "execution_count": null,
   "metadata": {},
   "outputs": [],
   "source": [
    "raw_eeg_data = []\n",
    "\n",
    "listener = mouse.Listener(\n",
    "    on_click=on_click)\n",
    "listener.start()\n",
    "\n",
    "inlet = StreamInlet(streams[0])\n",
    "print('Recording began. To insert a marker, click left mouse button.')\n",
    "\n",
    "cur_time = inlet.pull_sample()[1]\n",
    "\n",
    "while True:\n",
    "    sample, timestamp = inlet.pull_sample()\n",
    "    raw_eeg_data.append([timestamp,*sample,0])\n",
    "    \n",
    "    if timestamp > cur_time + timeout:\n",
    "        listener.stop()\n",
    "        break\n",
    "\n",
    "raw_eeg_data = sorted(raw_eeg_data, key=lambda x: x[0])\n",
    "\n",
    "df = pd.DataFrame(data=raw_eeg_data)\n",
    "df = df.drop_duplicates(0, keep='last')\n",
    "\n",
    "print('Recording complete. Number of samples collected: ', len(df.index))"
   ]
  },
  {
   "cell_type": "markdown",
   "metadata": {},
   "source": [
    "### Plot Recorded Data for Preview"
   ]
  },
  {
   "cell_type": "code",
   "execution_count": null,
   "metadata": {},
   "outputs": [],
   "source": [
    "fig = plt.figure(figsize=(12, 6))\n",
    "ax = plt.gca()\n",
    "\n",
    "df.plot(kind='line', use_index=True, y=1, ax=ax, label='tp9')\n",
    "df.plot(kind='line', use_index=True, y=2, ax=ax, label='af7')\n",
    "df.plot(kind='line', use_index=True, y=3, ax=ax, label='af8')\n",
    "df.plot(kind='line', use_index=True, y=4, ax=ax, label='tp10')\n",
    "\n",
    "ax.legend(loc=\"upper left\")"
   ]
  },
  {
   "cell_type": "markdown",
   "metadata": {},
   "source": [
    "### Save data to CSV"
   ]
  },
  {
   "cell_type": "code",
   "execution_count": null,
   "metadata": {},
   "outputs": [],
   "source": [
    "today = date.today().strftime('%d%m%Y')\n",
    "file_name = '%s_%s_%s.csv' % ('p300', today, 'test')"
   ]
  },
  {
   "cell_type": "code",
   "execution_count": null,
   "metadata": {},
   "outputs": [],
   "source": [
    "df.to_csv(file_name, index=False, header=['timestamp','tp9','af7','af8','tp10','aux','marker'])"
   ]
  }
 ],
 "metadata": {
  "kernelspec": {
   "display_name": "Python 3",
   "language": "python",
   "name": "python3"
  },
  "language_info": {
   "codemirror_mode": {
    "name": "ipython",
    "version": 3
   },
   "file_extension": ".py",
   "mimetype": "text/x-python",
   "name": "python",
   "nbconvert_exporter": "python",
   "pygments_lexer": "ipython3",
   "version": "3.7.5"
  }
 },
 "nbformat": 4,
 "nbformat_minor": 2
}